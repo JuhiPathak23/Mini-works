{
  "cells": [
    {
      "cell_type": "markdown",
      "metadata": {
        "id": "view-in-github",
        "colab_type": "text"
      },
      "source": [
        "<a href=\"https://colab.research.google.com/github/JuhiPathak23/Mini-works/blob/main/WEBCAM%20PAINT.ipynb\" target=\"_parent\"><img src=\"https://colab.research.google.com/assets/colab-badge.svg\" alt=\"Open In Colab\"/></a>"
      ]
    },
    {
      "cell_type": "code",
      "source": [
        "import numpy as np"
      ],
      "metadata": {
        "id": "PSrgQxVjNoEm"
      },
      "execution_count": 21,
      "outputs": []
    },
    {
      "cell_type": "code",
      "source": [
        "from collections import deque"
      ],
      "metadata": {
        "id": "9-dtY3cWNzL4"
      },
      "execution_count": 22,
      "outputs": []
    },
    {
      "cell_type": "code",
      "source": [
        "import cv2"
      ],
      "metadata": {
        "id": "8FnQ2rLZN313"
      },
      "execution_count": 23,
      "outputs": []
    },
    {
      "cell_type": "code",
      "source": [
        "blueLower = np.array([100, 60, 60])\n",
        "blueUpper = np.array([140, 255, 255])\n",
        "kernel = np.ones((5, 5), np.uint8)\n",
        "bpoints = [deque(maxlen=512)]\n",
        "gpoints = [deque(maxlen=512)]\n",
        "rpoints = [deque(maxlen=512)]\n",
        "ypoints = [deque(maxlen=512)]\n",
        "bindex = 0\n",
        "gindex = 0\n",
        "rindex = 0\n",
        "yindex = 0\n",
        "\n",
        "colors = [(255, 0, 0), (0, 255, 0), (0, 0, 255), (0, 255, 255)]\n",
        "colorIndex = 0"
      ],
      "metadata": {
        "id": "bihlUPMJN9cC"
      },
      "execution_count": 24,
      "outputs": []
    },
    {
      "cell_type": "code",
      "source": [
        "paintWindow = np.zeros((471,636,3)) + 255\n",
        "paintWindow = cv2.rectangle(paintWindow, (40,1), (140,65), (0,0,0), 2)\n",
        "paintWindow = cv2.rectangle(paintWindow, (160,1), (255,65), colors[0], -1)\n",
        "paintWindow = cv2.rectangle(paintWindow, (275,1), (370,65), colors[1], -1)\n",
        "paintWindow = cv2.rectangle(paintWindow, (390,1), (485,65), colors[2], -1)\n",
        "paintWindow = cv2.rectangle(paintWindow, (505,1), (600,65), colors[3], -1)"
      ],
      "metadata": {
        "id": "z1NMTRTbOJQy"
      },
      "execution_count": 25,
      "outputs": []
    },
    {
      "cell_type": "code",
      "source": [
        "cv2.putText(paintWindow, \"CLEAR ALL\", (49, 33), cv2.FONT_HERSHEY_SIMPLEX, 0.5, (0, 0, 0), 2, cv2.LINE_AA)\n",
        "cv2.putText(paintWindow, \"BLUE\", (185, 33), cv2.FONT_HERSHEY_SIMPLEX, 0.5, (255, 255, 255), 2, cv2.LINE_AA)\n",
        "cv2.putText(paintWindow, \"GREEN\", (298, 33), cv2.FONT_HERSHEY_SIMPLEX, 0.5, (255, 255, 255), 2, cv2.LINE_AA)\n",
        "cv2.putText(paintWindow, \"RED\", (420, 33), cv2.FONT_HERSHEY_SIMPLEX, 0.5, (255, 255, 255), 2, cv2.LINE_AA)\n",
        "cv2.putText(paintWindow, \"YELLOW\", (520, 33), cv2.FONT_HERSHEY_SIMPLEX, 0.5, (150,150,150), 2, cv2.LINE_AA)\n",
        "\n",
        "#cv2.namedWindow('Paint', cv2.WINDOW_AUTOSIZE)\n"
      ],
      "metadata": {
        "id": "ZgaYAP9QOR0r",
        "outputId": "90097074-2ea3-495c-d1a2-4e233a3a0e46",
        "colab": {
          "base_uri": "https://localhost:8080/"
        }
      },
      "execution_count": 26,
      "outputs": [
        {
          "output_type": "execute_result",
          "data": {
            "text/plain": [
              "array([[[255., 255., 255.],\n",
              "        [255., 255., 255.],\n",
              "        [255., 255., 255.],\n",
              "        ...,\n",
              "        [255., 255., 255.],\n",
              "        [255., 255., 255.],\n",
              "        [255., 255., 255.]],\n",
              "\n",
              "       [[255., 255., 255.],\n",
              "        [255., 255., 255.],\n",
              "        [255., 255., 255.],\n",
              "        ...,\n",
              "        [255., 255., 255.],\n",
              "        [255., 255., 255.],\n",
              "        [255., 255., 255.]],\n",
              "\n",
              "       [[255., 255., 255.],\n",
              "        [255., 255., 255.],\n",
              "        [255., 255., 255.],\n",
              "        ...,\n",
              "        [255., 255., 255.],\n",
              "        [255., 255., 255.],\n",
              "        [255., 255., 255.]],\n",
              "\n",
              "       ...,\n",
              "\n",
              "       [[255., 255., 255.],\n",
              "        [255., 255., 255.],\n",
              "        [255., 255., 255.],\n",
              "        ...,\n",
              "        [255., 255., 255.],\n",
              "        [255., 255., 255.],\n",
              "        [255., 255., 255.]],\n",
              "\n",
              "       [[255., 255., 255.],\n",
              "        [255., 255., 255.],\n",
              "        [255., 255., 255.],\n",
              "        ...,\n",
              "        [255., 255., 255.],\n",
              "        [255., 255., 255.],\n",
              "        [255., 255., 255.]],\n",
              "\n",
              "       [[255., 255., 255.],\n",
              "        [255., 255., 255.],\n",
              "        [255., 255., 255.],\n",
              "        ...,\n",
              "        [255., 255., 255.],\n",
              "        [255., 255., 255.],\n",
              "        [255., 255., 255.]]])"
            ]
          },
          "metadata": {},
          "execution_count": 26
        }
      ]
    },
    {
      "cell_type": "code",
      "source": [
        "camera = cv2.VideoCapture()"
      ],
      "metadata": {
        "id": "Go2xNvPSPKl8"
      },
      "execution_count": 27,
      "outputs": []
    },
    {
      "cell_type": "code",
      "source": [
        "while True:\n",
        "    (grabbed, frame) = camera.read()\n",
        "    frame = cv2.flip(frame, 1)\n",
        "    #hsv = cv2.cvtColor(frame, cv2.COLOR_BGR2HSV)\n",
        "    frame = cv2.rectangle(frame, (40,1), (140,65), (122,122,122), -1)\n",
        "    frame = cv2.rectangle(frame, (160,1), (255,65), colors[0], -1)\n",
        "    frame = cv2.rectangle(frame, (275,1), (370,65), colors[1], -1)\n",
        "    frame = cv2.rectangle(frame, (390,1), (485,65), colors[2], -1)\n",
        "    frame = cv2.rectangle(frame, (505,1), (600,65), colors[3], -1)\n",
        "    cv2.putText(frame, \"CLEAR ALL\", (49, 33), cv2.FONT_HERSHEY_SIMPLEX, 0.5, (255, 255, 255), 2, cv2.LINE_AA)\n",
        "    cv2.putText(frame, \"BLUE\", (185, 33), cv2.FONT_HERSHEY_SIMPLEX, 0.5, (255, 255, 255), 2, cv2.LINE_AA)\n",
        "    cv2.putText(frame, \"GREEN\", (298, 33), cv2.FONT_HERSHEY_SIMPLEX, 0.5, (255, 255, 255), 2, cv2.LINE_AA)\n",
        "    cv2.putText(frame, \"RED\", (420, 33), cv2.FONT_HERSHEY_SIMPLEX, 0.5, (255, 255, 255), 2, cv2.LINE_AA)\n",
        "    cv2.putText(frame, \"YELLOW\", (520, 33), cv2.FONT_HERSHEY_SIMPLEX, 0.5, (150,150,150), 2, cv2.LINE_AA)\n",
        "    if not grabbed:\n",
        "        break\n",
        "    blueMask = cv2.inRange(hsv, blueLower, blueUpper)\n",
        "    blueMask = cv2.erode(blueMask, kernel, iterations=2)\n",
        "    blueMask = cv2.morphologyEx(blueMask, cv2.MORPH_OPEN, kernel)\n",
        "    blueMask = cv2.dilate(blueMask, kernel, iterations=1)\n",
        "    (_, cnts, _) = cv2.findContours(blueMask.copy(), cv2.RETR_EXTERNAL,\n",
        "    \tcv2.CHAIN_APPROX_SIMPLE)\n",
        "    center = None\n",
        "    if len(cnts) > 0:\n",
        "        cnt = sorted(cnts, key = cv2.contourArea, reverse = True)[0]\n",
        "        ((x, y), radius) = cv2.minEnclosingCircle(cnt)\n",
        "        cv2.circle(frame, (int(x), int(y)), int(radius), (0, 255, 255), 2)\n",
        "        M = cv2.moments(cnt)\n",
        "        center = (int(M['m10'] / M['m00']), int(M['m01'] / M['m00']))\n",
        "        if center[1] <= 65:\n",
        "            if 40 <= center[0] <= 140: # Clear All\n",
        "                bpoints = [deque(maxlen=512)]\n",
        "                gpoints = [deque(maxlen=512)]\n",
        "                rpoints = [deque(maxlen=512)]\n",
        "                ypoints = [deque(maxlen=512)]\n",
        "                bindex = 0\n",
        "                gindex = 0\n",
        "                rindex = 0\n",
        "                yindex = 0\n",
        "                paintWindow[67:,:,:] = 255\n",
        "            elif 160 <= center[0] <= 255:\n",
        "                    colorIndex = 0 # Blue\n",
        "            elif 275 <= center[0] <= 370:\n",
        "                    colorIndex = 1 # Green\n",
        "            elif 390 <= center[0] <= 485:\n",
        "                    colorIndex = 2 # Red\n",
        "            elif 505 <= center[0] <= 600:\n",
        "                    colorIndex = 3 # Yellow\n",
        "        else :\n",
        "            if colorIndex == 0:\n",
        "                bpoints[bindex].appendleft(center)\n",
        "            elif colorIndex == 1:\n",
        "                gpoints[gindex].appendleft(center)\n",
        "            elif colorIndex == 2:\n",
        "                rpoints[rindex].appendleft(center)\n",
        "            elif colorIndex == 3:\n",
        "                ypoints[yindex].appendleft(center)\n",
        "    else:\n",
        "        bpoints.append(deque(maxlen=512))\n",
        "        bindex += 1\n",
        "        gpoints.append(deque(maxlen=512))\n",
        "        gindex += 1\n",
        "        rpoints.append(deque(maxlen=512))\n",
        "        rindex += 1\n",
        "        ypoints.append(deque(maxlen=512))\n",
        "        yindex += 1\n",
        "    points = [bpoints, gpoints, rpoints, ypoints]\n",
        "    for i in range(len(points)):\n",
        "        for j in range(len(points[i])):\n",
        "            for k in range(1, len(points[i][j])):\n",
        "                if points[i][j][k - 1] is None or points[i][j][k] is None:\n",
        "                    continue\n",
        "                cv2.line(frame, points[i][j][k - 1], points[i][j][k], colors[i], 2)\n",
        "                cv2.line(paintWindow, points[i][j][k - 1], points[i][j][k], colors[i], 2)\n",
        "    cv2.imshow(\"Tracking\", frame)\n",
        "    cv2.imshow(\"Paint\", paintWindow)\n",
        "    if cv2.waitKey(1) & 0xFF == ord(\"q\"):\n",
        "        break\n",
        "camera.release()\n",
        "#cv2.destroyAllWindows()"
      ],
      "metadata": {
        "id": "tmq8TNotPOVk"
      },
      "execution_count": 28,
      "outputs": []
    }
  ],
  "metadata": {
    "colab": {
      "name": "Welcome to Colaboratory",
      "toc_visible": true,
      "provenance": [],
      "include_colab_link": true
    },
    "kernelspec": {
      "display_name": "Python 3",
      "name": "python3"
    }
  },
  "nbformat": 4,
  "nbformat_minor": 0
}